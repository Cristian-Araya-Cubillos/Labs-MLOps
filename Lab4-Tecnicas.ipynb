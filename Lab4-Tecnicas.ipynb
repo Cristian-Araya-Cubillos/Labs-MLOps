{
 "cells": [
  {
   "cell_type": "code",
   "execution_count": 1,
   "id": "99232869-5709-4da3-b3e0-c67c7b11381e",
   "metadata": {},
   "outputs": [],
   "source": [
    "# Importación de librerías necesarias\n",
    "import numpy as np\n",
    "import pandas as pd\n",
    "from sklearn.model_selection import train_test_split, KFold, cross_val_score\n",
    "from sklearn.ensemble import RandomForestClassifier\n",
    "from sklearn.metrics import confusion_matrix, ConfusionMatrixDisplay\n",
    "from sklearn.metrics import accuracy_score, recall_score, precision_score, f1_score, roc_auc_score, confusion_matrix, ConfusionMatrixDisplay\n",
    "from sklearn.model_selection import train_test_split\n",
    "from sklearn.preprocessing import LabelEncoder\n",
    "from sklearn.preprocessing import StandardScaler\n",
    "from sklearn.ensemble import RandomForestClassifier\n",
    "from sklearn.metrics import confusion_matrix, ConfusionMatrixDisplay\n",
    "import matplotlib.pyplot as plt\n",
    "import seaborn as sns\n",
    "\n",
    "import matplotlib.pyplot as plt\n",
    "import seaborn as sns"
   ]
  },
  {
   "cell_type": "code",
   "execution_count": 2,
   "id": "84a489fa-2113-4c5f-9a8d-7b0a1e1b1c4d",
   "metadata": {},
   "outputs": [],
   "source": [
    "df = pd.read_csv(\"googleplaystore.csv\")"
   ]
  },
  {
   "cell_type": "code",
   "execution_count": 3,
   "id": "e67d044a-3b82-4538-8c8b-2e1ca831d11e",
   "metadata": {},
   "outputs": [
    {
     "data": {
      "text/html": [
       "<div>\n",
       "<style scoped>\n",
       "    .dataframe tbody tr th:only-of-type {\n",
       "        vertical-align: middle;\n",
       "    }\n",
       "\n",
       "    .dataframe tbody tr th {\n",
       "        vertical-align: top;\n",
       "    }\n",
       "\n",
       "    .dataframe thead th {\n",
       "        text-align: right;\n",
       "    }\n",
       "</style>\n",
       "<table border=\"1\" class=\"dataframe\">\n",
       "  <thead>\n",
       "    <tr style=\"text-align: right;\">\n",
       "      <th></th>\n",
       "      <th>App</th>\n",
       "      <th>Category</th>\n",
       "      <th>Rating</th>\n",
       "      <th>Reviews</th>\n",
       "      <th>Size</th>\n",
       "      <th>Installs</th>\n",
       "      <th>Type</th>\n",
       "      <th>Price</th>\n",
       "      <th>Content Rating</th>\n",
       "      <th>Genres</th>\n",
       "      <th>Last Updated</th>\n",
       "      <th>Current Ver</th>\n",
       "      <th>Android Ver</th>\n",
       "    </tr>\n",
       "  </thead>\n",
       "  <tbody>\n",
       "    <tr>\n",
       "      <th>7970</th>\n",
       "      <td>CV Templates 2018</td>\n",
       "      <td>FAMILY</td>\n",
       "      <td>4.0</td>\n",
       "      <td>13</td>\n",
       "      <td>26M</td>\n",
       "      <td>5,000+</td>\n",
       "      <td>Free</td>\n",
       "      <td>0</td>\n",
       "      <td>Everyone</td>\n",
       "      <td>Education</td>\n",
       "      <td>October 9, 2017</td>\n",
       "      <td>1.1</td>\n",
       "      <td>4.0.3 and up</td>\n",
       "    </tr>\n",
       "    <tr>\n",
       "      <th>6856</th>\n",
       "      <td>Bacteria Vaginosis</td>\n",
       "      <td>HEALTH_AND_FITNESS</td>\n",
       "      <td>4.0</td>\n",
       "      <td>4015</td>\n",
       "      <td>7.7M</td>\n",
       "      <td>1,000,000+</td>\n",
       "      <td>Free</td>\n",
       "      <td>0</td>\n",
       "      <td>Mature 17+</td>\n",
       "      <td>Health &amp; Fitness</td>\n",
       "      <td>April 27, 2017</td>\n",
       "      <td>6.0</td>\n",
       "      <td>3.0 and up</td>\n",
       "    </tr>\n",
       "    <tr>\n",
       "      <th>7484</th>\n",
       "      <td>INFAMY RO</td>\n",
       "      <td>FAMILY</td>\n",
       "      <td>4.1</td>\n",
       "      <td>2167</td>\n",
       "      <td>3.7M</td>\n",
       "      <td>50,000+</td>\n",
       "      <td>Free</td>\n",
       "      <td>0</td>\n",
       "      <td>Everyone</td>\n",
       "      <td>Role Playing</td>\n",
       "      <td>December 14, 2017</td>\n",
       "      <td>202</td>\n",
       "      <td>4.3 and up</td>\n",
       "    </tr>\n",
       "    <tr>\n",
       "      <th>8976</th>\n",
       "      <td>SportLook</td>\n",
       "      <td>PHOTOGRAPHY</td>\n",
       "      <td>2.5</td>\n",
       "      <td>1283</td>\n",
       "      <td>8.2M</td>\n",
       "      <td>100,000+</td>\n",
       "      <td>Free</td>\n",
       "      <td>0</td>\n",
       "      <td>Everyone</td>\n",
       "      <td>Photography</td>\n",
       "      <td>June 21, 2018</td>\n",
       "      <td>1.2.7</td>\n",
       "      <td>4.1 and up</td>\n",
       "    </tr>\n",
       "    <tr>\n",
       "      <th>7680</th>\n",
       "      <td>CP RACING 2 FREE</td>\n",
       "      <td>FAMILY</td>\n",
       "      <td>4.0</td>\n",
       "      <td>4607</td>\n",
       "      <td>19M</td>\n",
       "      <td>100,000+</td>\n",
       "      <td>Free</td>\n",
       "      <td>0</td>\n",
       "      <td>Everyone</td>\n",
       "      <td>Simulation</td>\n",
       "      <td>March 12, 2018</td>\n",
       "      <td>3</td>\n",
       "      <td>4.0 and up</td>\n",
       "    </tr>\n",
       "  </tbody>\n",
       "</table>\n",
       "</div>"
      ],
      "text/plain": [
       "                     App            Category  Rating Reviews  Size  \\\n",
       "7970   CV Templates 2018              FAMILY     4.0      13   26M   \n",
       "6856  Bacteria Vaginosis  HEALTH_AND_FITNESS     4.0    4015  7.7M   \n",
       "7484           INFAMY RO              FAMILY     4.1    2167  3.7M   \n",
       "8976           SportLook         PHOTOGRAPHY     2.5    1283  8.2M   \n",
       "7680    CP RACING 2 FREE              FAMILY     4.0    4607   19M   \n",
       "\n",
       "        Installs  Type Price Content Rating            Genres  \\\n",
       "7970      5,000+  Free     0       Everyone         Education   \n",
       "6856  1,000,000+  Free     0     Mature 17+  Health & Fitness   \n",
       "7484     50,000+  Free     0       Everyone      Role Playing   \n",
       "8976    100,000+  Free     0       Everyone       Photography   \n",
       "7680    100,000+  Free     0       Everyone        Simulation   \n",
       "\n",
       "           Last Updated Current Ver   Android Ver  \n",
       "7970    October 9, 2017         1.1  4.0.3 and up  \n",
       "6856     April 27, 2017         6.0    3.0 and up  \n",
       "7484  December 14, 2017         202    4.3 and up  \n",
       "8976      June 21, 2018       1.2.7    4.1 and up  \n",
       "7680     March 12, 2018           3    4.0 and up  "
      ]
     },
     "execution_count": 3,
     "metadata": {},
     "output_type": "execute_result"
    }
   ],
   "source": [
    "df.sample(5)"
   ]
  },
  {
   "cell_type": "code",
   "execution_count": 4,
   "id": "8ec3424f-b297-419d-8cd7-d8cbab6e9bdd",
   "metadata": {},
   "outputs": [],
   "source": [
    "df=df.drop(df.index[10472])"
   ]
  },
  {
   "cell_type": "code",
   "execution_count": 5,
   "id": "025fc90b-b86d-48cf-9b67-f4203ebf48ff",
   "metadata": {},
   "outputs": [],
   "source": [
    "df[\"Reviews\"] = df[\"Reviews\"].astype(int)"
   ]
  },
  {
   "cell_type": "code",
   "execution_count": 6,
   "id": "57bf8ed6-8848-4226-8f58-ae39954a04d8",
   "metadata": {},
   "outputs": [
    {
     "data": {
      "text/plain": [
       "0        19000.0\n",
       "1        14000.0\n",
       "2            8.7\n",
       "3        25000.0\n",
       "4            2.8\n",
       "          ...   \n",
       "10836    53000.0\n",
       "10837        3.6\n",
       "10838        9.5\n",
       "10839        NaN\n",
       "10840    19000.0\n",
       "Name: Size, Length: 10840, dtype: float64"
      ]
     },
     "execution_count": 6,
     "metadata": {},
     "output_type": "execute_result"
    }
   ],
   "source": [
    "df['Size']=df['Size'].str.replace('M','000')\n",
    "df['Size']=df['Size'].str.replace('k','')\n",
    "#apps['size']=apps['size'].str.replace('.','')\n",
    "df['Size']=df['Size'].replace(\"Varies with device\",np.nan)\n",
    "df['Size']=df['Size'].astype('float')\n",
    "df['Size']"
   ]
  },
  {
   "cell_type": "code",
   "execution_count": 7,
   "id": "99e3267e-1836-42a0-982f-1927fa6096db",
   "metadata": {},
   "outputs": [
    {
     "data": {
      "text/plain": [
       "0        19.0\n",
       "1        14.0\n",
       "2         8.7\n",
       "3        25.0\n",
       "4         2.8\n",
       "         ... \n",
       "10836    53.0\n",
       "10837     3.6\n",
       "10838     9.5\n",
       "10839     NaN\n",
       "10840    19.0\n",
       "Name: Size, Length: 10840, dtype: float64"
      ]
     },
     "execution_count": 7,
     "metadata": {},
     "output_type": "execute_result"
    }
   ],
   "source": [
    "for i in df['Size']:\n",
    "    if i < 10:\n",
    "        df['Size']=df['Size'].replace(i,i*1000)\n",
    "df['Size']=df['Size']/1000\n",
    "df['Size']"
   ]
  },
  {
   "cell_type": "code",
   "execution_count": 8,
   "id": "6bca36c6-39ab-438b-8eb7-b53b59f53939",
   "metadata": {},
   "outputs": [
    {
     "data": {
      "text/html": [
       "<div>\n",
       "<style scoped>\n",
       "    .dataframe tbody tr th:only-of-type {\n",
       "        vertical-align: middle;\n",
       "    }\n",
       "\n",
       "    .dataframe tbody tr th {\n",
       "        vertical-align: top;\n",
       "    }\n",
       "\n",
       "    .dataframe thead th {\n",
       "        text-align: right;\n",
       "    }\n",
       "</style>\n",
       "<table border=\"1\" class=\"dataframe\">\n",
       "  <thead>\n",
       "    <tr style=\"text-align: right;\">\n",
       "      <th></th>\n",
       "      <th>App</th>\n",
       "      <th>Category</th>\n",
       "      <th>Rating</th>\n",
       "      <th>Reviews</th>\n",
       "      <th>Size</th>\n",
       "      <th>Installs</th>\n",
       "      <th>Type</th>\n",
       "      <th>Price</th>\n",
       "      <th>Content Rating</th>\n",
       "      <th>Genres</th>\n",
       "      <th>Last Updated</th>\n",
       "      <th>Current Ver</th>\n",
       "      <th>Android Ver</th>\n",
       "    </tr>\n",
       "  </thead>\n",
       "  <tbody>\n",
       "    <tr>\n",
       "      <th>0</th>\n",
       "      <td>Photo Editor &amp; Candy Camera &amp; Grid &amp; ScrapBook</td>\n",
       "      <td>ART_AND_DESIGN</td>\n",
       "      <td>4.1</td>\n",
       "      <td>159</td>\n",
       "      <td>19.0</td>\n",
       "      <td>10000</td>\n",
       "      <td>Free</td>\n",
       "      <td>0</td>\n",
       "      <td>Everyone</td>\n",
       "      <td>Art &amp; Design</td>\n",
       "      <td>January 7, 2018</td>\n",
       "      <td>1.0.0</td>\n",
       "      <td>4.0.3 and up</td>\n",
       "    </tr>\n",
       "    <tr>\n",
       "      <th>1</th>\n",
       "      <td>Coloring book moana</td>\n",
       "      <td>ART_AND_DESIGN</td>\n",
       "      <td>3.9</td>\n",
       "      <td>967</td>\n",
       "      <td>14.0</td>\n",
       "      <td>500000</td>\n",
       "      <td>Free</td>\n",
       "      <td>0</td>\n",
       "      <td>Everyone</td>\n",
       "      <td>Art &amp; Design;Pretend Play</td>\n",
       "      <td>January 15, 2018</td>\n",
       "      <td>2.0.0</td>\n",
       "      <td>4.0.3 and up</td>\n",
       "    </tr>\n",
       "    <tr>\n",
       "      <th>2</th>\n",
       "      <td>U Launcher Lite – FREE Live Cool Themes, Hide ...</td>\n",
       "      <td>ART_AND_DESIGN</td>\n",
       "      <td>4.7</td>\n",
       "      <td>87510</td>\n",
       "      <td>8.7</td>\n",
       "      <td>5000000</td>\n",
       "      <td>Free</td>\n",
       "      <td>0</td>\n",
       "      <td>Everyone</td>\n",
       "      <td>Art &amp; Design</td>\n",
       "      <td>August 1, 2018</td>\n",
       "      <td>1.2.4</td>\n",
       "      <td>4.0.3 and up</td>\n",
       "    </tr>\n",
       "    <tr>\n",
       "      <th>3</th>\n",
       "      <td>Sketch - Draw &amp; Paint</td>\n",
       "      <td>ART_AND_DESIGN</td>\n",
       "      <td>4.5</td>\n",
       "      <td>215644</td>\n",
       "      <td>25.0</td>\n",
       "      <td>50000000</td>\n",
       "      <td>Free</td>\n",
       "      <td>0</td>\n",
       "      <td>Teen</td>\n",
       "      <td>Art &amp; Design</td>\n",
       "      <td>June 8, 2018</td>\n",
       "      <td>Varies with device</td>\n",
       "      <td>4.2 and up</td>\n",
       "    </tr>\n",
       "    <tr>\n",
       "      <th>4</th>\n",
       "      <td>Pixel Draw - Number Art Coloring Book</td>\n",
       "      <td>ART_AND_DESIGN</td>\n",
       "      <td>4.3</td>\n",
       "      <td>967</td>\n",
       "      <td>2.8</td>\n",
       "      <td>100000</td>\n",
       "      <td>Free</td>\n",
       "      <td>0</td>\n",
       "      <td>Everyone</td>\n",
       "      <td>Art &amp; Design;Creativity</td>\n",
       "      <td>June 20, 2018</td>\n",
       "      <td>1.1</td>\n",
       "      <td>4.4 and up</td>\n",
       "    </tr>\n",
       "  </tbody>\n",
       "</table>\n",
       "</div>"
      ],
      "text/plain": [
       "                                                 App        Category  Rating  \\\n",
       "0     Photo Editor & Candy Camera & Grid & ScrapBook  ART_AND_DESIGN     4.1   \n",
       "1                                Coloring book moana  ART_AND_DESIGN     3.9   \n",
       "2  U Launcher Lite – FREE Live Cool Themes, Hide ...  ART_AND_DESIGN     4.7   \n",
       "3                              Sketch - Draw & Paint  ART_AND_DESIGN     4.5   \n",
       "4              Pixel Draw - Number Art Coloring Book  ART_AND_DESIGN     4.3   \n",
       "\n",
       "   Reviews  Size  Installs  Type Price Content Rating  \\\n",
       "0      159  19.0     10000  Free     0       Everyone   \n",
       "1      967  14.0    500000  Free     0       Everyone   \n",
       "2    87510   8.7   5000000  Free     0       Everyone   \n",
       "3   215644  25.0  50000000  Free     0           Teen   \n",
       "4      967   2.8    100000  Free     0       Everyone   \n",
       "\n",
       "                      Genres      Last Updated         Current Ver  \\\n",
       "0               Art & Design   January 7, 2018               1.0.0   \n",
       "1  Art & Design;Pretend Play  January 15, 2018               2.0.0   \n",
       "2               Art & Design    August 1, 2018               1.2.4   \n",
       "3               Art & Design      June 8, 2018  Varies with device   \n",
       "4    Art & Design;Creativity     June 20, 2018                 1.1   \n",
       "\n",
       "    Android Ver  \n",
       "0  4.0.3 and up  \n",
       "1  4.0.3 and up  \n",
       "2  4.0.3 and up  \n",
       "3    4.2 and up  \n",
       "4    4.4 and up  "
      ]
     },
     "execution_count": 8,
     "metadata": {},
     "output_type": "execute_result"
    }
   ],
   "source": [
    "remover_items=['+',',','$']\n",
    "columnas=['Installs','Price']\n",
    "for item in remover_items:\n",
    "    for col in columnas:\n",
    "        df[col]=df[col].str.replace(item,'')\n",
    "df.head()"
   ]
  },
  {
   "cell_type": "code",
   "execution_count": 9,
   "id": "926c7736-83f2-462b-9a66-0fceab759a3e",
   "metadata": {},
   "outputs": [
    {
     "name": "stdout",
     "output_type": "stream",
     "text": [
      "<class 'pandas.core.frame.DataFrame'>\n",
      "Index: 10840 entries, 0 to 10840\n",
      "Data columns (total 13 columns):\n",
      " #   Column          Non-Null Count  Dtype  \n",
      "---  ------          --------------  -----  \n",
      " 0   App             10840 non-null  object \n",
      " 1   Category        10840 non-null  object \n",
      " 2   Rating          9366 non-null   float64\n",
      " 3   Reviews         10840 non-null  int32  \n",
      " 4   Size            9145 non-null   float64\n",
      " 5   Installs        10840 non-null  int32  \n",
      " 6   Type            10839 non-null  object \n",
      " 7   Price           10840 non-null  float64\n",
      " 8   Content Rating  10840 non-null  object \n",
      " 9   Genres          10840 non-null  object \n",
      " 10  Last Updated    10840 non-null  object \n",
      " 11  Current Ver     10832 non-null  object \n",
      " 12  Android Ver     10838 non-null  object \n",
      "dtypes: float64(3), int32(2), object(8)\n",
      "memory usage: 1.1+ MB\n"
     ]
    }
   ],
   "source": [
    "df['Installs']=df['Installs'].astype('int')\n",
    "df['Price']=df['Price'].astype('float')\n",
    "df.info()"
   ]
  },
  {
   "cell_type": "code",
   "execution_count": 10,
   "id": "319cdd59-ba6f-497a-8ebe-778c9638b4a0",
   "metadata": {},
   "outputs": [],
   "source": [
    "df['Last Updated'] = pd.to_datetime(df['Last Updated'])\n",
    "df['Last Updated']\n",
    "df['Updated_Month']=df['Last Updated'].dt.month\n",
    "df['Updated_Year']=df['Last Updated'].dt.year"
   ]
  },
  {
   "cell_type": "code",
   "execution_count": 11,
   "id": "7e0a4f2f-345d-4846-aca6-45b57eafdd19",
   "metadata": {},
   "outputs": [],
   "source": [
    "df.drop('Last Updated', axis=1, inplace=True)"
   ]
  },
  {
   "cell_type": "code",
   "execution_count": 12,
   "id": "e874d29e-5dd0-4cb0-a336-0e4804af98df",
   "metadata": {},
   "outputs": [
    {
     "data": {
      "text/html": [
       "<div>\n",
       "<style scoped>\n",
       "    .dataframe tbody tr th:only-of-type {\n",
       "        vertical-align: middle;\n",
       "    }\n",
       "\n",
       "    .dataframe tbody tr th {\n",
       "        vertical-align: top;\n",
       "    }\n",
       "\n",
       "    .dataframe thead th {\n",
       "        text-align: right;\n",
       "    }\n",
       "</style>\n",
       "<table border=\"1\" class=\"dataframe\">\n",
       "  <thead>\n",
       "    <tr style=\"text-align: right;\">\n",
       "      <th></th>\n",
       "      <th>Null Values</th>\n",
       "      <th>Percentage Null Values</th>\n",
       "    </tr>\n",
       "  </thead>\n",
       "  <tbody>\n",
       "    <tr>\n",
       "      <th>Size</th>\n",
       "      <td>1695</td>\n",
       "      <td>15.636531</td>\n",
       "    </tr>\n",
       "    <tr>\n",
       "      <th>Rating</th>\n",
       "      <td>1474</td>\n",
       "      <td>13.597786</td>\n",
       "    </tr>\n",
       "    <tr>\n",
       "      <th>Current Ver</th>\n",
       "      <td>8</td>\n",
       "      <td>0.073801</td>\n",
       "    </tr>\n",
       "    <tr>\n",
       "      <th>Android Ver</th>\n",
       "      <td>2</td>\n",
       "      <td>0.018450</td>\n",
       "    </tr>\n",
       "    <tr>\n",
       "      <th>Type</th>\n",
       "      <td>1</td>\n",
       "      <td>0.009225</td>\n",
       "    </tr>\n",
       "    <tr>\n",
       "      <th>App</th>\n",
       "      <td>0</td>\n",
       "      <td>0.000000</td>\n",
       "    </tr>\n",
       "    <tr>\n",
       "      <th>Category</th>\n",
       "      <td>0</td>\n",
       "      <td>0.000000</td>\n",
       "    </tr>\n",
       "    <tr>\n",
       "      <th>Reviews</th>\n",
       "      <td>0</td>\n",
       "      <td>0.000000</td>\n",
       "    </tr>\n",
       "    <tr>\n",
       "      <th>Installs</th>\n",
       "      <td>0</td>\n",
       "      <td>0.000000</td>\n",
       "    </tr>\n",
       "    <tr>\n",
       "      <th>Price</th>\n",
       "      <td>0</td>\n",
       "      <td>0.000000</td>\n",
       "    </tr>\n",
       "    <tr>\n",
       "      <th>Content Rating</th>\n",
       "      <td>0</td>\n",
       "      <td>0.000000</td>\n",
       "    </tr>\n",
       "    <tr>\n",
       "      <th>Genres</th>\n",
       "      <td>0</td>\n",
       "      <td>0.000000</td>\n",
       "    </tr>\n",
       "    <tr>\n",
       "      <th>Updated_Month</th>\n",
       "      <td>0</td>\n",
       "      <td>0.000000</td>\n",
       "    </tr>\n",
       "    <tr>\n",
       "      <th>Updated_Year</th>\n",
       "      <td>0</td>\n",
       "      <td>0.000000</td>\n",
       "    </tr>\n",
       "  </tbody>\n",
       "</table>\n",
       "</div>"
      ],
      "text/plain": [
       "                Null Values  Percentage Null Values\n",
       "Size                   1695               15.636531\n",
       "Rating                 1474               13.597786\n",
       "Current Ver               8                0.073801\n",
       "Android Ver               2                0.018450\n",
       "Type                      1                0.009225\n",
       "App                       0                0.000000\n",
       "Category                  0                0.000000\n",
       "Reviews                   0                0.000000\n",
       "Installs                  0                0.000000\n",
       "Price                     0                0.000000\n",
       "Content Rating            0                0.000000\n",
       "Genres                    0                0.000000\n",
       "Updated_Month             0                0.000000\n",
       "Updated_Year              0                0.000000"
      ]
     },
     "execution_count": 12,
     "metadata": {},
     "output_type": "execute_result"
    }
   ],
   "source": [
    "null = pd.DataFrame({'Null Values' : df.isna().sum().sort_values(ascending=False), 'Percentage Null Values' : (df.isna().sum().sort_values(ascending=False)) / (df.shape[0]) * (100)})\n",
    "null"
   ]
  },
  {
   "cell_type": "code",
   "execution_count": 13,
   "id": "665b9029-e120-41a8-b5c8-76b933e24afc",
   "metadata": {},
   "outputs": [
    {
     "data": {
      "text/plain": [
       "<BarContainer object of 14 artists>"
      ]
     },
     "execution_count": 13,
     "metadata": {},
     "output_type": "execute_result"
    },
    {
     "data": {
      "image/png": "[encoded data removed]",
      "text/plain": [
       "<Figure size 1600x800 with 1 Axes>"
      ]
     },
     "metadata": {},
     "output_type": "display_data"
    }
   ],
   "source": [
    "null_counts = df.isna().sum().sort_values(ascending=False)/len(df)\n",
    "plt.figure(figsize=(16,8))\n",
    "plt.xticks(np.arange(len(null_counts))+0.5,null_counts.index,rotation='vertical')\n",
    "plt.ylabel('fraction of rows with missing data')\n",
    "plt.bar(np.arange(len(null_counts)),null_counts)"
   ]
  },
  {
   "cell_type": "code",
   "execution_count": 14,
   "id": "cff80fe6-12d7-47e5-a707-6896dfd5ff2d",
   "metadata": {},
   "outputs": [],
   "source": [
    "def impute_median(series):\n",
    "    return series.fillna(series.median())\n",
    "\n",
    "df['Rating'] = df['Rating'].transform(impute_median)"
   ]
  },
  {
   "cell_type": "code",
   "execution_count": 15,
   "id": "a4921413-c1c8-4b96-9912-b437166a3695",
   "metadata": {},
   "outputs": [],
   "source": [
    "def impute_median(series):\n",
    "    return series.fillna(series.median())\n",
    "\n",
    "df['Size'] = df['Size'].transform(impute_median)"
   ]
  },
  {
   "cell_type": "code",
   "execution_count": 16,
   "id": "f368ec8b-1749-4c0c-908c-0537b8bad1f5",
   "metadata": {},
   "outputs": [],
   "source": [
    "df['Type'].fillna(str(df['Type'].mode().values[0]),inplace=True)"
   ]
  },
  {
   "cell_type": "code",
   "execution_count": 17,
   "id": "25f1cf51-bb80-41e6-84b2-37980eb9dae6",
   "metadata": {},
   "outputs": [
    {
     "name": "stdout",
     "output_type": "stream",
     "text": [
      "484\n"
     ]
    }
   ],
   "source": [
    "duplicate = df.duplicated()\n",
    "print(duplicate.sum())"
   ]
  },
  {
   "cell_type": "code",
   "execution_count": 18,
   "id": "79ea4568-75f8-4b55-a857-25bb42216688",
   "metadata": {},
   "outputs": [],
   "source": [
    "df.drop_duplicates(inplace=True)"
   ]
  },
  {
   "cell_type": "code",
   "execution_count": 19,
   "id": "e42b87f0-c062-4335-9a01-78dd02780ad0",
   "metadata": {},
   "outputs": [
    {
     "data": {
      "text/plain": [
       "['Rating',\n",
       " 'Reviews',\n",
       " 'Size',\n",
       " 'Installs',\n",
       " 'Price',\n",
       " 'Updated_Month',\n",
       " 'Updated_Year']"
      ]
     },
     "execution_count": 19,
     "metadata": {},
     "output_type": "execute_result"
    }
   ],
   "source": [
    "num_features=[col for col in df.columns if df[col].dtype!='O']\n",
    "num_features"
   ]
  },
  {
   "cell_type": "code",
   "execution_count": 20,
   "id": "ed7949d7-bdae-4e85-b1ef-a3299c34c507",
   "metadata": {},
   "outputs": [],
   "source": [
    "pruned_features = ['App', 'Genres', 'Current Ver', 'Android Ver']"
   ]
  },
  {
   "cell_type": "code",
   "execution_count": 21,
   "id": "deaf3459-cda7-47af-953e-022c214f1e15",
   "metadata": {},
   "outputs": [],
   "source": [
    "target = 'Rating'"
   ]
  },
  {
   "cell_type": "code",
   "execution_count": 22,
   "id": "d584c9d4-be8b-45e7-b23b-3a1f56d98ef3",
   "metadata": {},
   "outputs": [],
   "source": [
    "X = df.copy().drop(pruned_features+[target], axis=1)\n",
    "y = df.copy()[target]"
   ]
  },
  {
   "cell_type": "code",
   "execution_count": 23,
   "id": "72806bc4-5dea-458c-9517-c965d46ccc22",
   "metadata": {},
   "outputs": [],
   "source": [
    "X_train, X_test, y_train, y_test = train_test_split(X, y, test_size=0.2, random_state=42)"
   ]
  },
  {
   "cell_type": "code",
   "execution_count": 24,
   "id": "f8de5dfe-230e-4e9c-ad5d-3356925f1057",
   "metadata": {},
   "outputs": [],
   "source": [
    "from collections import defaultdict\n",
    "le_dict = defaultdict()"
   ]
  },
  {
   "cell_type": "code",
   "execution_count": 25,
   "id": "6b0cd33e-17da-4ad2-a1cb-bfde9c82b5ca",
   "metadata": {},
   "outputs": [],
   "source": [
    "features_to_encode = X_train.select_dtypes(include=['category', 'object']).columns\n",
    "\n",
    "for col in features_to_encode:\n",
    "    le = LabelEncoder()\n",
    "\n",
    "    X_train[col] = le.fit_transform(X_train[col]) # Ajuste y transformación de los datos de entrenamiento\n",
    "    X_train[col] = X_train[col].astype('category') # Conversión de las características codificadas en etiquetas de tipo numérico a categórico en pandas\n",
    "    X_test[col] = le.transform(X_test[col]) # Transformar sólo los datos de prueba\n",
    "    X_test[col] = X_test[col].astype('category') # Convertir las características codificadas en etiquetas de numéricas a categóricas dtype in pandas\n",
    "    le_dict[col] = le # Guardar el codificador de etiquetas para características individuales"
   ]
  },
  {
   "cell_type": "code",
   "execution_count": 26,
   "id": "f9352c8c-81c7-4aca-bded-311f73692b43",
   "metadata": {},
   "outputs": [],
   "source": [
    "# Conversión y adición de «Last Updated Month» a características categóricas\n",
    "categorical_features = features_to_encode + ['Updated_Month']\n",
    "X_train['Updated_Month'] = X_train['Updated_Month'].astype('category')\n",
    "X_test['Updated_Month'] = X_test['Updated_Month'].astype('category')\n",
    "\n",
    "# Listado de características numéricas a escala\n",
    "numeric_features = X_train.select_dtypes(exclude=['category', 'object']).columns"
   ]
  },
  {
   "cell_type": "code",
   "execution_count": 27,
   "id": "aab2265e-e977-48cc-9c48-2715734728db",
   "metadata": {},
   "outputs": [
    {
     "name": "stdout",
     "output_type": "stream",
     "text": [
      "float64\n",
      "1948    4.3\n",
      "1201    4.3\n",
      "4700    4.2\n",
      "9156    4.4\n",
      "3632    4.5\n",
      "876     4.5\n",
      "1301    4.0\n",
      "4565    4.3\n",
      "9462    4.3\n",
      "5009    3.9\n",
      "Name: Rating, dtype: float64\n"
     ]
    }
   ],
   "source": [
    "# Check the data type of y_train\n",
    "print(y_train.dtype)\n",
    "print(y_train[:10])  # Print the first 10 values to inspect\n",
    "\n",
    "# If y_train is continuous, binarize or categorize it\n",
    "if y_train.dtype in ['float64', 'float32', 'int64', 'int32']:\n",
    "    # Example: convert continuous target to binary (0 or 1)\n",
    "    # This is just an example; you need to define how you want to categorize your target\n",
    "    y_train = (y_train > y_train.mean()).astype(int)\n",
    "    y_test = (y_test > y_test.mean()).astype(int)\n"
   ]
  },
  {
   "cell_type": "code",
   "execution_count": 28,
   "id": "18c02079-7cf1-45d0-bf40-b02ca6593019",
   "metadata": {},
   "outputs": [
    {
     "name": "stdout",
     "output_type": "stream",
     "text": [
      "Resultados de CV: [0.70307785 0.69885335 0.73264937 0.72299336 0.69565217]\n",
      "Promedio de CV: 0.71\n"
     ]
    }
   ],
   "source": [
    "# Implementación de K-Fold Cross Validation\n",
    "kf = KFold(n_splits=5, random_state=42, shuffle=True)\n",
    "model = RandomForestClassifier(n_estimators=100, random_state=42)\n",
    "cv_results = cross_val_score(model, X_train, y_train, cv=kf, scoring='accuracy')\n",
    "\n",
    "print(f\"Resultados de CV: {cv_results}\")\n",
    "print(f\"Promedio de CV: {cv_results.mean():.2f}\")"
   ]
  },
  {
   "cell_type": "markdown",
   "id": "e6252f49-5a91-4160-af33-43bdde510fa2",
   "metadata": {},
   "source": [
    "#### Resultados de la Validación Cruzada\n",
    "* Resultados de CV: [0.70307785 0.69885335 0.73264937 0.72299336 0.69565217]\r",
    "* \n",
    "Promedio de CV: 0.71"
   ]
  },
  {
   "cell_type": "markdown",
   "id": "74c4409e-1b43-4338-a354-ec16edcea758",
   "metadata": {},
   "source": [
    "#### Desglose de los Resultados\n",
    "   Los resultados específicos para cada pliegue son:\n",
    "   - **Primera iteración**: 0.70307785\n",
    "   - **Segunda iteración**: 0.69885335\n",
    "   - **Tercera iteración**: 0.73264937\n",
    "   - **Cuarta iteración**: 0.72299336\n",
    "   - **Quinta iteración**: 0.69565217"
   ]
  },
  {
   "cell_type": "markdown",
   "id": "6b07cb51-4479-4a91-a77c-12c2ebf80b07",
   "metadata": {},
   "source": [
    "#### Análisis de los Resultados\n",
    "1. **Consistencia del modelo**:\n",
    "* La variación entre los pliegues es relativamente pequeña, con un rango de aproximadamente 0.037 (desde 0.69565217 hasta 0.73264937). Esto sugiere que el modelo tiene un desempeño bastante consistente, sin grandes variaciones entre los diferentes conjuntos de datos de entrenamiento y prueba.\n",
    "* La variacion de 0.037 indica que el modelo es fiable y no está excesivamente influenciado por las particiones de los datos.\n",
    "\n",
    "2. **Interpretación del Promedio de CV**:\n",
    "* El promedio de los resultados de la validación cruzada es 0.71.\n",
    "* Indica que el modelo predice correctamente el 71% de los casos en promedio.\n",
    "* Este promedio no es ni bueno ni malo, indica un buen rendimiento, pero aun con un gran margen de mejoras\n",
    "\n",
    "3. **Desempeño de los Pliegues Extremos**:\n",
    "* Los pliegues extremos en este conjunto son:\n",
    "    - El más bajo: 0.69565217\n",
    "    - El más alto: 0.73264937\n",
    "* Como no se ve una disparidad muy alta, esto es positivo\n",
    "    - Sin embargo, se podría investigar si ciertas características de los datos en los pliegues más bajos contribuyen a un peor rendimiento, lo cual podría ofrecer oportunidades para mejorar el modelo.\n"
   ]
  },
  {
   "cell_type": "markdown",
   "id": "0df53d40-e315-4f8f-bc3e-c22b3aace519",
   "metadata": {},
   "source": [
    "#### Conclsion\n",
    "* El modelo muestra una buena consistencia a través de los pliegues de validación cruzada, con un promedio de precisión del 71%, lo cual es bastante decente.\n",
    "* La pequeña variación en el desempeño de los pliegues sugiere que el modelo es robusto y confiable."
   ]
  },
  {
   "cell_type": "markdown",
   "id": "c33ae0cc-d20b-4da8-a188-9739b2097b77",
   "metadata": {},
   "source": [
    "### Matriz de Confusión\n",
    "\n",
    "Una matriz de confusión proporciona una representación tabular del rendimiento de un algoritmo de clasificación, mostrando el número de instancias clasificadas correctamente e incorrectamente para cada clase. Vamos a interpretar la matriz de confusión proporcionada:\n"
   ]
  },
  {
   "cell_type": "code",
   "execution_count": 29,
   "id": "851c6294-885a-40bf-a0dc-d13992733ddf",
   "metadata": {},
   "outputs": [
    {
     "name": "stdout",
     "output_type": "stream",
     "text": [
      "Clases en y_test: [0, 1]\n",
      "Clases en y_pred: [0, 1]\n"
     ]
    },
    {
     "data": {
      "image/png": "[encoded data removed]",
      "text/plain": [
       "<Figure size 1000x700 with 2 Axes>"
      ]
     },
     "metadata": {},
     "output_type": "display_data"
    }
   ],
   "source": [
    "# Entrenar el modelo\n",
    "model = RandomForestClassifier(n_estimators=100, random_state=42)\n",
    "model.fit(X_train, y_train)\n",
    "\n",
    "# Realizar predicciones\n",
    "y_pred = model.predict(X_test)\n",
    "\n",
    "# Generar la matriz de confusión\n",
    "cm = confusion_matrix(y_test, y_pred)\n",
    "\n",
    "# Obtener los nombres de las clases\n",
    "class_names = [0, 1]  # Para este caso específico, ya que tenemos clases 0 y 1\n",
    "\n",
    "# Verificación de las clases en y_test y y_pred\n",
    "print(f\"Clases en y_test: {sorted(set(y_test))}\")\n",
    "print(f\"Clases en y_pred: {sorted(set(y_pred))}\")\n",
    "\n",
    "# Visualizar la matriz de confusión usando Matplotlib y Seaborn\n",
    "plt.figure(figsize=(10, 7))\n",
    "sns.heatmap(cm, annot=True, fmt='d', cmap='Blues', xticklabels=class_names, yticklabels=class_names)\n",
    "plt.xlabel('Predicted')\n",
    "plt.ylabel('Actual')\n",
    "plt.title('Confusion Matrix')\n",
    "plt.show()\n"
   ]
  },
  {
   "cell_type": "code",
   "execution_count": 30,
   "id": "0debbc7e-e435-4fb9-89d9-364cbf9e8fdf",
   "metadata": {},
   "outputs": [
    {
     "data": {
      "text/plain": [
       "array([[487, 329],\n",
       "       [264, 992]], dtype=int64)"
      ]
     },
     "execution_count": 30,
     "metadata": {},
     "output_type": "execute_result"
    }
   ],
   "source": [
    "cm"
   ]
  },
  {
   "cell_type": "markdown",
   "id": "2de5e6fb-3327-47d7-b181-3275b1f96a9d",
   "metadata": {},
   "source": [
    "#### Estructura de la Matriz de Confusión\n",
    "La matriz tiene la siguiente estructura:\n",
    "\n",
    "```\n",
    "              Predicted Class\n",
    "              |   0   |   1   |\n",
    "Actual Class  |-------|-------|\n",
    "      0       |  TP   |  FP   |\n",
    "              |-------|-------|\n",
    "      1       |  FN   |  TN   |\n",
    "```\n",
    "Donde:\n",
    "- **TP (True Positive)**: Número de instancias de la clase 0 correctamente predichas como clase 0.\n",
    "- **FP (False Positive)**: Número de instancias de la clase 1 incorrectamente predichas como clase 0.\n",
    "- **FN (False Negative)**: Número de instancias de la clase 0 incorrectamente predichas como clase 1.\n",
    "- **TN (True Negative)**: Número de instancias de la clase 1 correctamente predichas como clase 1.\n",
    "\n",
    "Para la matriz de confusión dada:\n",
    "\n",
    "```plaintext\n",
    "[[487,  329],\n",
    " [ 264, 992]]\n",
    "```\n",
    "#### Interpretación de los Resultados\n",
    "\n",
    "1. **True Positives (TP)**:\n",
    "   - **Valor**: 487\n",
    "   - **Interpretación**: El modelo predijo correctamente 487 instancias de la clase 0.\n",
    "\n",
    "2. **False Positives (FP)**:\n",
    "   - **Valor**: 329\n",
    "   - **Interpretación**: El modelo incorrectamente predijo 329 instancias de la clase 1 como clase 0. Estos son errores donde la clase negativa fue clasificada como positiva.\n",
    "\n",
    "3. **False Negatives (FN)**:\n",
    "   - **Valor**: 264\n",
    "   - **Interpretación**: El modelo incorrectamente predijo 264 instancias de la clase 0 como clase 1. Estos son errores donde la clase positiva fue clasificada como negativa.\n",
    "\n",
    "4. **True Negatives (TN)**:\n",
    "   - **Valor**: 992\n",
    "   - **Interpretación**: El modelo predijo correctamente 992 instancias de la clase 1.\n",
    "  \n",
    "### Conclusión\n",
    "La matriz de confusión y sus métricas asociadas proporcionan una visión detallada del rendimiento del modelo. "
   ]
  }
 ],
 "metadata": {
  "kernelspec": {
   "display_name": "Python 3 (ipykernel)",
   "language": "python",
   "name": "python3"
  },
  "language_info": {
   "codemirror_mode": {
    "name": "ipython",
    "version": 3
   },
   "file_extension": ".py",
   "mimetype": "text/x-python",
   "name": "python",
   "nbconvert_exporter": "python",
   "pygments_lexer": "ipython3",
   "version": "3.11.7"
  }
 },
 "nbformat": 4,
 "nbformat_minor": 5
}
