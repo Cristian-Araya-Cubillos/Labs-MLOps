{
 "cells": [
  {
   "cell_type": "code",
   "execution_count": 1,
   "id": "50a3ea32-67d9-404a-9551-9b2113adf061",
   "metadata": {},
   "outputs": [],
   "source": [
    "# Importación de librerías necesarias\n",
    "import numpy as np\n",
    "import pandas as pd\n",
    "from sklearn.model_selection import train_test_split\n",
    "from sklearn.ensemble import RandomForestClassifier\n",
    "from sklearn.metrics import confusion_matrix, ConfusionMatrixDisplay\n",
    "from sklearn.metrics import accuracy_score, recall_score, precision_score, f1_score, roc_auc_score, confusion_matrix, ConfusionMatrixDisplay\n",
    "from sklearn.model_selection import train_test_split\n",
    "from sklearn.preprocessing import LabelEncoder\n",
    "from sklearn.preprocessing import StandardScaler\n",
    "\n",
    "import matplotlib.pyplot as plt\n",
    "import seaborn as sns\n",
    "from sklearn.datasets import load_breast_cancer"
   ]
  },
  {
   "cell_type": "code",
   "execution_count": 2,
   "id": "afce5870-8da0-4378-af1a-835e1232cdfe",
   "metadata": {},
   "outputs": [],
   "source": [
    "df = pd.read_csv(\"googleplaystore.csv\")"
   ]
  },
  {
   "cell_type": "code",
   "execution_count": 3,
   "id": "5075f365-4a9c-47a5-8374-6741476d46f5",
   "metadata": {},
   "outputs": [
    {
     "data": {
      "text/html": [
       "<div>\n",
       "<style scoped>\n",
       "    .dataframe tbody tr th:only-of-type {\n",
       "        vertical-align: middle;\n",
       "    }\n",
       "\n",
       "    .dataframe tbody tr th {\n",
       "        vertical-align: top;\n",
       "    }\n",
       "\n",
       "    .dataframe thead th {\n",
       "        text-align: right;\n",
       "    }\n",
       "</style>\n",
       "<table border=\"1\" class=\"dataframe\">\n",
       "  <thead>\n",
       "    <tr style=\"text-align: right;\">\n",
       "      <th></th>\n",
       "      <th>App</th>\n",
       "      <th>Category</th>\n",
       "      <th>Rating</th>\n",
       "      <th>Reviews</th>\n",
       "      <th>Size</th>\n",
       "      <th>Installs</th>\n",
       "      <th>Type</th>\n",
       "      <th>Price</th>\n",
       "      <th>Content Rating</th>\n",
       "      <th>Genres</th>\n",
       "      <th>Last Updated</th>\n",
       "      <th>Current Ver</th>\n",
       "      <th>Android Ver</th>\n",
       "    </tr>\n",
       "  </thead>\n",
       "  <tbody>\n",
       "    <tr>\n",
       "      <th>6008</th>\n",
       "      <td>BD Provider App</td>\n",
       "      <td>HEALTH_AND_FITNESS</td>\n",
       "      <td>1.4</td>\n",
       "      <td>45</td>\n",
       "      <td>13M</td>\n",
       "      <td>5,000+</td>\n",
       "      <td>Free</td>\n",
       "      <td>0</td>\n",
       "      <td>Everyone</td>\n",
       "      <td>Health &amp; Fitness</td>\n",
       "      <td>September 12, 2016</td>\n",
       "      <td>1.0</td>\n",
       "      <td>4.1 and up</td>\n",
       "    </tr>\n",
       "    <tr>\n",
       "      <th>8530</th>\n",
       "      <td>Trimble DL</td>\n",
       "      <td>PRODUCTIVITY</td>\n",
       "      <td>4.2</td>\n",
       "      <td>133</td>\n",
       "      <td>7.9M</td>\n",
       "      <td>10,000+</td>\n",
       "      <td>Free</td>\n",
       "      <td>0</td>\n",
       "      <td>Everyone</td>\n",
       "      <td>Productivity</td>\n",
       "      <td>January 12, 2018</td>\n",
       "      <td>1.0.184</td>\n",
       "      <td>4.2 and up</td>\n",
       "    </tr>\n",
       "    <tr>\n",
       "      <th>720</th>\n",
       "      <td>Learn English Words Free</td>\n",
       "      <td>EDUCATION</td>\n",
       "      <td>4.6</td>\n",
       "      <td>172640</td>\n",
       "      <td>14M</td>\n",
       "      <td>5,000,000+</td>\n",
       "      <td>Free</td>\n",
       "      <td>0</td>\n",
       "      <td>Everyone</td>\n",
       "      <td>Education</td>\n",
       "      <td>May 2, 2018</td>\n",
       "      <td>2.6.2</td>\n",
       "      <td>4.1 and up</td>\n",
       "    </tr>\n",
       "    <tr>\n",
       "      <th>4486</th>\n",
       "      <td>Android P Launcher 9.0 launcher</td>\n",
       "      <td>TOOLS</td>\n",
       "      <td>4.0</td>\n",
       "      <td>164</td>\n",
       "      <td>2.3M</td>\n",
       "      <td>10,000+</td>\n",
       "      <td>Free</td>\n",
       "      <td>0</td>\n",
       "      <td>Everyone</td>\n",
       "      <td>Tools</td>\n",
       "      <td>April 23, 2018</td>\n",
       "      <td>1.0</td>\n",
       "      <td>5.0 and up</td>\n",
       "    </tr>\n",
       "    <tr>\n",
       "      <th>793</th>\n",
       "      <td>Learn languages, grammar &amp; vocabulary with Mem...</td>\n",
       "      <td>EDUCATION</td>\n",
       "      <td>4.7</td>\n",
       "      <td>1107884</td>\n",
       "      <td>Varies with device</td>\n",
       "      <td>10,000,000+</td>\n",
       "      <td>Free</td>\n",
       "      <td>0</td>\n",
       "      <td>Everyone</td>\n",
       "      <td>Education</td>\n",
       "      <td>August 2, 2018</td>\n",
       "      <td>Varies with device</td>\n",
       "      <td>Varies with device</td>\n",
       "    </tr>\n",
       "  </tbody>\n",
       "</table>\n",
       "</div>"
      ],
      "text/plain": [
       "                                                    App            Category  \\\n",
       "6008                                    BD Provider App  HEALTH_AND_FITNESS   \n",
       "8530                                         Trimble DL        PRODUCTIVITY   \n",
       "720                            Learn English Words Free           EDUCATION   \n",
       "4486                    Android P Launcher 9.0 launcher               TOOLS   \n",
       "793   Learn languages, grammar & vocabulary with Mem...           EDUCATION   \n",
       "\n",
       "      Rating  Reviews                Size     Installs  Type Price  \\\n",
       "6008     1.4       45                 13M       5,000+  Free     0   \n",
       "8530     4.2      133                7.9M      10,000+  Free     0   \n",
       "720      4.6   172640                 14M   5,000,000+  Free     0   \n",
       "4486     4.0      164                2.3M      10,000+  Free     0   \n",
       "793      4.7  1107884  Varies with device  10,000,000+  Free     0   \n",
       "\n",
       "     Content Rating            Genres        Last Updated         Current Ver  \\\n",
       "6008       Everyone  Health & Fitness  September 12, 2016                 1.0   \n",
       "8530       Everyone      Productivity    January 12, 2018             1.0.184   \n",
       "720        Everyone         Education         May 2, 2018               2.6.2   \n",
       "4486       Everyone             Tools      April 23, 2018                 1.0   \n",
       "793        Everyone         Education      August 2, 2018  Varies with device   \n",
       "\n",
       "             Android Ver  \n",
       "6008          4.1 and up  \n",
       "8530          4.2 and up  \n",
       "720           4.1 and up  \n",
       "4486          5.0 and up  \n",
       "793   Varies with device  "
      ]
     },
     "execution_count": 3,
     "metadata": {},
     "output_type": "execute_result"
    }
   ],
   "source": [
    "df.sample(5)"
   ]
  },
  {
   "cell_type": "code",
   "execution_count": 4,
   "id": "3ed4daad-1ae1-4e5e-8d7c-348817a3b0ba",
   "metadata": {},
   "outputs": [],
   "source": [
    "df=df.drop(df.index[10472])"
   ]
  },
  {
   "cell_type": "code",
   "execution_count": 5,
   "id": "cffc9b2f-8d26-4da2-9e57-1eba0dd6fe6b",
   "metadata": {},
   "outputs": [],
   "source": [
    "df[\"Reviews\"] = df[\"Reviews\"].astype(int)"
   ]
  },
  {
   "cell_type": "code",
   "execution_count": 6,
   "id": "6c9a8642-6176-4373-a834-ca2a93e068af",
   "metadata": {},
   "outputs": [
    {
     "data": {
      "text/plain": [
       "0        19000.0\n",
       "1        14000.0\n",
       "2            8.7\n",
       "3        25000.0\n",
       "4            2.8\n",
       "          ...   \n",
       "10836    53000.0\n",
       "10837        3.6\n",
       "10838        9.5\n",
       "10839        NaN\n",
       "10840    19000.0\n",
       "Name: Size, Length: 10840, dtype: float64"
      ]
     },
     "execution_count": 6,
     "metadata": {},
     "output_type": "execute_result"
    }
   ],
   "source": [
    "df['Size']=df['Size'].str.replace('M','000')\n",
    "df['Size']=df['Size'].str.replace('k','')\n",
    "#apps['size']=apps['size'].str.replace('.','')\n",
    "df['Size']=df['Size'].replace(\"Varies with device\",np.nan)\n",
    "df['Size']=df['Size'].astype('float')\n",
    "df['Size']"
   ]
  },
  {
   "cell_type": "code",
   "execution_count": 7,
   "id": "feaf40a0-efd3-4d57-8324-3d3f6a6ed447",
   "metadata": {},
   "outputs": [
    {
     "data": {
      "text/plain": [
       "0        19.0\n",
       "1        14.0\n",
       "2         8.7\n",
       "3        25.0\n",
       "4         2.8\n",
       "         ... \n",
       "10836    53.0\n",
       "10837     3.6\n",
       "10838     9.5\n",
       "10839     NaN\n",
       "10840    19.0\n",
       "Name: Size, Length: 10840, dtype: float64"
      ]
     },
     "execution_count": 7,
     "metadata": {},
     "output_type": "execute_result"
    }
   ],
   "source": [
    "for i in df['Size']:\n",
    "    if i < 10:\n",
    "        df['Size']=df['Size'].replace(i,i*1000)\n",
    "df['Size']=df['Size']/1000\n",
    "df['Size']"
   ]
  },
  {
   "cell_type": "code",
   "execution_count": 8,
   "id": "ac4f329d-67ed-4a02-ad8c-a9451a49a7aa",
   "metadata": {},
   "outputs": [
    {
     "data": {
      "text/html": [
       "<div>\n",
       "<style scoped>\n",
       "    .dataframe tbody tr th:only-of-type {\n",
       "        vertical-align: middle;\n",
       "    }\n",
       "\n",
       "    .dataframe tbody tr th {\n",
       "        vertical-align: top;\n",
       "    }\n",
       "\n",
       "    .dataframe thead th {\n",
       "        text-align: right;\n",
       "    }\n",
       "</style>\n",
       "<table border=\"1\" class=\"dataframe\">\n",
       "  <thead>\n",
       "    <tr style=\"text-align: right;\">\n",
       "      <th></th>\n",
       "      <th>App</th>\n",
       "      <th>Category</th>\n",
       "      <th>Rating</th>\n",
       "      <th>Reviews</th>\n",
       "      <th>Size</th>\n",
       "      <th>Installs</th>\n",
       "      <th>Type</th>\n",
       "      <th>Price</th>\n",
       "      <th>Content Rating</th>\n",
       "      <th>Genres</th>\n",
       "      <th>Last Updated</th>\n",
       "      <th>Current Ver</th>\n",
       "      <th>Android Ver</th>\n",
       "    </tr>\n",
       "  </thead>\n",
       "  <tbody>\n",
       "    <tr>\n",
       "      <th>0</th>\n",
       "      <td>Photo Editor &amp; Candy Camera &amp; Grid &amp; ScrapBook</td>\n",
       "      <td>ART_AND_DESIGN</td>\n",
       "      <td>4.1</td>\n",
       "      <td>159</td>\n",
       "      <td>19.0</td>\n",
       "      <td>10000</td>\n",
       "      <td>Free</td>\n",
       "      <td>0</td>\n",
       "      <td>Everyone</td>\n",
       "      <td>Art &amp; Design</td>\n",
       "      <td>January 7, 2018</td>\n",
       "      <td>1.0.0</td>\n",
       "      <td>4.0.3 and up</td>\n",
       "    </tr>\n",
       "    <tr>\n",
       "      <th>1</th>\n",
       "      <td>Coloring book moana</td>\n",
       "      <td>ART_AND_DESIGN</td>\n",
       "      <td>3.9</td>\n",
       "      <td>967</td>\n",
       "      <td>14.0</td>\n",
       "      <td>500000</td>\n",
       "      <td>Free</td>\n",
       "      <td>0</td>\n",
       "      <td>Everyone</td>\n",
       "      <td>Art &amp; Design;Pretend Play</td>\n",
       "      <td>January 15, 2018</td>\n",
       "      <td>2.0.0</td>\n",
       "      <td>4.0.3 and up</td>\n",
       "    </tr>\n",
       "    <tr>\n",
       "      <th>2</th>\n",
       "      <td>U Launcher Lite – FREE Live Cool Themes, Hide ...</td>\n",
       "      <td>ART_AND_DESIGN</td>\n",
       "      <td>4.7</td>\n",
       "      <td>87510</td>\n",
       "      <td>8.7</td>\n",
       "      <td>5000000</td>\n",
       "      <td>Free</td>\n",
       "      <td>0</td>\n",
       "      <td>Everyone</td>\n",
       "      <td>Art &amp; Design</td>\n",
       "      <td>August 1, 2018</td>\n",
       "      <td>1.2.4</td>\n",
       "      <td>4.0.3 and up</td>\n",
       "    </tr>\n",
       "    <tr>\n",
       "      <th>3</th>\n",
       "      <td>Sketch - Draw &amp; Paint</td>\n",
       "      <td>ART_AND_DESIGN</td>\n",
       "      <td>4.5</td>\n",
       "      <td>215644</td>\n",
       "      <td>25.0</td>\n",
       "      <td>50000000</td>\n",
       "      <td>Free</td>\n",
       "      <td>0</td>\n",
       "      <td>Teen</td>\n",
       "      <td>Art &amp; Design</td>\n",
       "      <td>June 8, 2018</td>\n",
       "      <td>Varies with device</td>\n",
       "      <td>4.2 and up</td>\n",
       "    </tr>\n",
       "    <tr>\n",
       "      <th>4</th>\n",
       "      <td>Pixel Draw - Number Art Coloring Book</td>\n",
       "      <td>ART_AND_DESIGN</td>\n",
       "      <td>4.3</td>\n",
       "      <td>967</td>\n",
       "      <td>2.8</td>\n",
       "      <td>100000</td>\n",
       "      <td>Free</td>\n",
       "      <td>0</td>\n",
       "      <td>Everyone</td>\n",
       "      <td>Art &amp; Design;Creativity</td>\n",
       "      <td>June 20, 2018</td>\n",
       "      <td>1.1</td>\n",
       "      <td>4.4 and up</td>\n",
       "    </tr>\n",
       "  </tbody>\n",
       "</table>\n",
       "</div>"
      ],
      "text/plain": [
       "                                                 App        Category  Rating  \\\n",
       "0     Photo Editor & Candy Camera & Grid & ScrapBook  ART_AND_DESIGN     4.1   \n",
       "1                                Coloring book moana  ART_AND_DESIGN     3.9   \n",
       "2  U Launcher Lite – FREE Live Cool Themes, Hide ...  ART_AND_DESIGN     4.7   \n",
       "3                              Sketch - Draw & Paint  ART_AND_DESIGN     4.5   \n",
       "4              Pixel Draw - Number Art Coloring Book  ART_AND_DESIGN     4.3   \n",
       "\n",
       "   Reviews  Size  Installs  Type Price Content Rating  \\\n",
       "0      159  19.0     10000  Free     0       Everyone   \n",
       "1      967  14.0    500000  Free     0       Everyone   \n",
       "2    87510   8.7   5000000  Free     0       Everyone   \n",
       "3   215644  25.0  50000000  Free     0           Teen   \n",
       "4      967   2.8    100000  Free     0       Everyone   \n",
       "\n",
       "                      Genres      Last Updated         Current Ver  \\\n",
       "0               Art & Design   January 7, 2018               1.0.0   \n",
       "1  Art & Design;Pretend Play  January 15, 2018               2.0.0   \n",
       "2               Art & Design    August 1, 2018               1.2.4   \n",
       "3               Art & Design      June 8, 2018  Varies with device   \n",
       "4    Art & Design;Creativity     June 20, 2018                 1.1   \n",
       "\n",
       "    Android Ver  \n",
       "0  4.0.3 and up  \n",
       "1  4.0.3 and up  \n",
       "2  4.0.3 and up  \n",
       "3    4.2 and up  \n",
       "4    4.4 and up  "
      ]
     },
     "execution_count": 8,
     "metadata": {},
     "output_type": "execute_result"
    }
   ],
   "source": [
    "remover_items=['+',',','$']\n",
    "columnas=['Installs','Price']\n",
    "for item in remover_items:\n",
    "    for col in columnas:\n",
    "        df[col]=df[col].str.replace(item,'')\n",
    "df.head()"
   ]
  },
  {
   "cell_type": "code",
   "execution_count": 9,
   "id": "84255c9c-4fb0-4a36-add0-0f28ccf1ba6e",
   "metadata": {},
   "outputs": [
    {
     "name": "stdout",
     "output_type": "stream",
     "text": [
      "<class 'pandas.core.frame.DataFrame'>\n",
      "Index: 10840 entries, 0 to 10840\n",
      "Data columns (total 13 columns):\n",
      " #   Column          Non-Null Count  Dtype  \n",
      "---  ------          --------------  -----  \n",
      " 0   App             10840 non-null  object \n",
      " 1   Category        10840 non-null  object \n",
      " 2   Rating          9366 non-null   float64\n",
      " 3   Reviews         10840 non-null  int32  \n",
      " 4   Size            9145 non-null   float64\n",
      " 5   Installs        10840 non-null  int32  \n",
      " 6   Type            10839 non-null  object \n",
      " 7   Price           10840 non-null  float64\n",
      " 8   Content Rating  10840 non-null  object \n",
      " 9   Genres          10840 non-null  object \n",
      " 10  Last Updated    10840 non-null  object \n",
      " 11  Current Ver     10832 non-null  object \n",
      " 12  Android Ver     10838 non-null  object \n",
      "dtypes: float64(3), int32(2), object(8)\n",
      "memory usage: 1.1+ MB\n"
     ]
    }
   ],
   "source": [
    "df['Installs']=df['Installs'].astype('int')\n",
    "df['Price']=df['Price'].astype('float')\n",
    "df.info()"
   ]
  },
  {
   "cell_type": "code",
   "execution_count": 10,
   "id": "567b89d5-c081-4068-a893-64c7433baaf6",
   "metadata": {},
   "outputs": [],
   "source": [
    "df['Last Updated'] = pd.to_datetime(df['Last Updated'])\n",
    "df['Last Updated']\n",
    "df['Updated_Month']=df['Last Updated'].dt.month\n",
    "df['Updated_Year']=df['Last Updated'].dt.year"
   ]
  },
  {
   "cell_type": "code",
   "execution_count": 11,
   "id": "bcf94ba6-d279-4d65-9ba0-8f00d941f560",
   "metadata": {},
   "outputs": [],
   "source": [
    "df.drop('Last Updated', axis=1, inplace=True)"
   ]
  },
  {
   "cell_type": "code",
   "execution_count": 12,
   "id": "757e24ab-8110-4bc6-a94e-751e01f9b90e",
   "metadata": {},
   "outputs": [
    {
     "data": {
      "text/html": [
       "<div>\n",
       "<style scoped>\n",
       "    .dataframe tbody tr th:only-of-type {\n",
       "        vertical-align: middle;\n",
       "    }\n",
       "\n",
       "    .dataframe tbody tr th {\n",
       "        vertical-align: top;\n",
       "    }\n",
       "\n",
       "    .dataframe thead th {\n",
       "        text-align: right;\n",
       "    }\n",
       "</style>\n",
       "<table border=\"1\" class=\"dataframe\">\n",
       "  <thead>\n",
       "    <tr style=\"text-align: right;\">\n",
       "      <th></th>\n",
       "      <th>Null Values</th>\n",
       "      <th>Percentage Null Values</th>\n",
       "    </tr>\n",
       "  </thead>\n",
       "  <tbody>\n",
       "    <tr>\n",
       "      <th>Size</th>\n",
       "      <td>1695</td>\n",
       "      <td>15.636531</td>\n",
       "    </tr>\n",
       "    <tr>\n",
       "      <th>Rating</th>\n",
       "      <td>1474</td>\n",
       "      <td>13.597786</td>\n",
       "    </tr>\n",
       "    <tr>\n",
       "      <th>Current Ver</th>\n",
       "      <td>8</td>\n",
       "      <td>0.073801</td>\n",
       "    </tr>\n",
       "    <tr>\n",
       "      <th>Android Ver</th>\n",
       "      <td>2</td>\n",
       "      <td>0.018450</td>\n",
       "    </tr>\n",
       "    <tr>\n",
       "      <th>Type</th>\n",
       "      <td>1</td>\n",
       "      <td>0.009225</td>\n",
       "    </tr>\n",
       "    <tr>\n",
       "      <th>App</th>\n",
       "      <td>0</td>\n",
       "      <td>0.000000</td>\n",
       "    </tr>\n",
       "    <tr>\n",
       "      <th>Category</th>\n",
       "      <td>0</td>\n",
       "      <td>0.000000</td>\n",
       "    </tr>\n",
       "    <tr>\n",
       "      <th>Reviews</th>\n",
       "      <td>0</td>\n",
       "      <td>0.000000</td>\n",
       "    </tr>\n",
       "    <tr>\n",
       "      <th>Installs</th>\n",
       "      <td>0</td>\n",
       "      <td>0.000000</td>\n",
       "    </tr>\n",
       "    <tr>\n",
       "      <th>Price</th>\n",
       "      <td>0</td>\n",
       "      <td>0.000000</td>\n",
       "    </tr>\n",
       "    <tr>\n",
       "      <th>Content Rating</th>\n",
       "      <td>0</td>\n",
       "      <td>0.000000</td>\n",
       "    </tr>\n",
       "    <tr>\n",
       "      <th>Genres</th>\n",
       "      <td>0</td>\n",
       "      <td>0.000000</td>\n",
       "    </tr>\n",
       "    <tr>\n",
       "      <th>Updated_Month</th>\n",
       "      <td>0</td>\n",
       "      <td>0.000000</td>\n",
       "    </tr>\n",
       "    <tr>\n",
       "      <th>Updated_Year</th>\n",
       "      <td>0</td>\n",
       "      <td>0.000000</td>\n",
       "    </tr>\n",
       "  </tbody>\n",
       "</table>\n",
       "</div>"
      ],
      "text/plain": [
       "                Null Values  Percentage Null Values\n",
       "Size                   1695               15.636531\n",
       "Rating                 1474               13.597786\n",
       "Current Ver               8                0.073801\n",
       "Android Ver               2                0.018450\n",
       "Type                      1                0.009225\n",
       "App                       0                0.000000\n",
       "Category                  0                0.000000\n",
       "Reviews                   0                0.000000\n",
       "Installs                  0                0.000000\n",
       "Price                     0                0.000000\n",
       "Content Rating            0                0.000000\n",
       "Genres                    0                0.000000\n",
       "Updated_Month             0                0.000000\n",
       "Updated_Year              0                0.000000"
      ]
     },
     "execution_count": 12,
     "metadata": {},
     "output_type": "execute_result"
    }
   ],
   "source": [
    "null = pd.DataFrame({'Null Values' : df.isna().sum().sort_values(ascending=False), 'Percentage Null Values' : (df.isna().sum().sort_values(ascending=False)) / (df.shape[0]) * (100)})\n",
    "null"
   ]
  },
  {
   "cell_type": "code",
   "execution_count": 13,
   "id": "a63183c4-ab91-4a0d-941f-ebcf2c6b838f",
   "metadata": {},
   "outputs": [
    {
     "data": {
      "text/plain": [
       "<BarContainer object of 14 artists>"
      ]
     },
     "execution_count": 13,
     "metadata": {},
     "output_type": "execute_result"
    },
    {
     "data": {
      "image/png": "[encoded data removed]",
      "text/plain": [
       "<Figure size 1600x800 with 1 Axes>"
      ]
     },
     "metadata": {},
     "output_type": "display_data"
    }
   ],
   "source": [
    "null_counts = df.isna().sum().sort_values(ascending=False)/len(df)\n",
    "plt.figure(figsize=(16,8))\n",
    "plt.xticks(np.arange(len(null_counts))+0.5,null_counts.index,rotation='vertical')\n",
    "plt.ylabel('fraction of rows with missing data')\n",
    "plt.bar(np.arange(len(null_counts)),null_counts)"
   ]
  },
  {
   "cell_type": "code",
   "execution_count": 14,
   "id": "b2f231cb-6bc5-4c95-b827-82c53069152a",
   "metadata": {},
   "outputs": [],
   "source": [
    "def impute_median(series):\n",
    "    return series.fillna(series.median())\n",
    "\n",
    "df['Rating'] = df['Rating'].transform(impute_median)"
   ]
  },
  {
   "cell_type": "code",
   "execution_count": 15,
   "id": "2a47df6b-620b-40e2-b5a5-447235f75a9a",
   "metadata": {},
   "outputs": [],
   "source": [
    "def impute_median(series):\n",
    "    return series.fillna(series.median())\n",
    "\n",
    "df['Size'] = df['Size'].transform(impute_median)"
   ]
  },
  {
   "cell_type": "code",
   "execution_count": 16,
   "id": "5c227ce3-0cea-445a-95b3-e5c6494b73e5",
   "metadata": {},
   "outputs": [],
   "source": [
    "df['Type'].fillna(str(df['Type'].mode().values[0]),inplace=True)"
   ]
  },
  {
   "cell_type": "code",
   "execution_count": 17,
   "id": "aa182026-73bd-4182-9748-e5b0d6630bf3",
   "metadata": {},
   "outputs": [
    {
     "name": "stdout",
     "output_type": "stream",
     "text": [
      "484\n"
     ]
    }
   ],
   "source": [
    "duplicate = df.duplicated()\n",
    "print(duplicate.sum())"
   ]
  },
  {
   "cell_type": "code",
   "execution_count": 18,
   "id": "12e30cda-b543-409e-9a93-d2a2331bf52f",
   "metadata": {},
   "outputs": [],
   "source": [
    "df.drop_duplicates(inplace=True)"
   ]
  },
  {
   "cell_type": "code",
   "execution_count": 19,
   "id": "bec265d4-37d4-4ce1-b84c-bcbb73800248",
   "metadata": {},
   "outputs": [
    {
     "data": {
      "text/plain": [
       "['Rating',\n",
       " 'Reviews',\n",
       " 'Size',\n",
       " 'Installs',\n",
       " 'Price',\n",
       " 'Updated_Month',\n",
       " 'Updated_Year']"
      ]
     },
     "execution_count": 19,
     "metadata": {},
     "output_type": "execute_result"
    }
   ],
   "source": [
    "num_features=[col for col in df.columns if df[col].dtype!='O']\n",
    "num_features"
   ]
  },
  {
   "cell_type": "code",
   "execution_count": 20,
   "id": "f5fea807-ac41-4b7c-9c32-7241d131109d",
   "metadata": {},
   "outputs": [],
   "source": [
    "pruned_features = ['App', 'Genres', 'Current Ver', 'Android Ver']"
   ]
  },
  {
   "cell_type": "code",
   "execution_count": 21,
   "id": "3efa1ddb-3e34-49c1-9466-029db9d0c217",
   "metadata": {},
   "outputs": [],
   "source": [
    "target = 'Rating'"
   ]
  },
  {
   "cell_type": "code",
   "execution_count": 22,
   "id": "26b5a3a3-cd02-4612-9eb3-f33514da56ec",
   "metadata": {},
   "outputs": [],
   "source": [
    "X = df.copy().drop(pruned_features+[target], axis=1)\n",
    "y = df.copy()[target]"
   ]
  },
  {
   "cell_type": "code",
   "execution_count": 23,
   "id": "d6c0b657-71c6-450d-8d7f-556a9bfb02df",
   "metadata": {},
   "outputs": [],
   "source": [
    "X_train, X_test, y_train, y_test = train_test_split(X, y, test_size=0.2, random_state=42)"
   ]
  },
  {
   "cell_type": "code",
   "execution_count": 24,
   "id": "2f21efef-0ad5-4868-8ea5-9a8303114f3d",
   "metadata": {},
   "outputs": [],
   "source": [
    "from collections import defaultdict\n",
    "le_dict = defaultdict()"
   ]
  },
  {
   "cell_type": "code",
   "execution_count": 25,
   "id": "ded9b644-2149-4e47-8152-97ff1780ec82",
   "metadata": {},
   "outputs": [],
   "source": [
    "features_to_encode = X_train.select_dtypes(include=['category', 'object']).columns\n",
    "\n",
    "for col in features_to_encode:\n",
    "    le = LabelEncoder()\n",
    "\n",
    "    X_train[col] = le.fit_transform(X_train[col]) # Ajuste y transformación de los datos de entrenamiento\n",
    "    X_train[col] = X_train[col].astype('category') # Conversión de las características codificadas en etiquetas de tipo numérico a categórico en pandas\n",
    "    X_test[col] = le.transform(X_test[col]) # Transformar sólo los datos de prueba\n",
    "    X_test[col] = X_test[col].astype('category') # Convertir las características codificadas en etiquetas de numéricas a categóricas dtype in pandas\n",
    "    le_dict[col] = le # Guardar el codificador de etiquetas para características individuales"
   ]
  },
  {
   "cell_type": "code",
   "execution_count": 26,
   "id": "432332d0-3ab1-4b3d-b83a-5aceb0130bc8",
   "metadata": {},
   "outputs": [],
   "source": [
    "# Conversión y adición de «Last Updated Month» a características categóricas\n",
    "categorical_features = features_to_encode + ['Updated_Month']\n",
    "X_train['Updated_Month'] = X_train['Updated_Month'].astype('category')\n",
    "X_test['Updated_Month'] = X_test['Updated_Month'].astype('category')\n",
    "\n",
    "# Listado de características numéricas a escala\n",
    "numeric_features = X_train.select_dtypes(exclude=['category', 'object']).columns"
   ]
  },
  {
   "cell_type": "code",
   "execution_count": 27,
   "id": "2ba9b7e5-e3c6-4745-97f1-98ebb17a17ad",
   "metadata": {},
   "outputs": [
    {
     "name": "stdout",
     "output_type": "stream",
     "text": [
      "float64\n",
      "1948    4.3\n",
      "1201    4.3\n",
      "4700    4.2\n",
      "9156    4.4\n",
      "3632    4.5\n",
      "876     4.5\n",
      "1301    4.0\n",
      "4565    4.3\n",
      "9462    4.3\n",
      "5009    3.9\n",
      "Name: Rating, dtype: float64\n",
      "Accuracy: 0.71\n",
      "Recall: 0.79\n",
      "Precision: 0.75\n",
      "F1 Score: 0.77\n",
      "ROC AUC Score: 0.69\n"
     ]
    }
   ],
   "source": [
    "# Check the data type of y_train\n",
    "print(y_train.dtype)\n",
    "print(y_train[:10])  # Print the first 10 values to inspect\n",
    "\n",
    "# If y_train is continuous, binarize or categorize it\n",
    "if y_train.dtype in ['float64', 'float32', 'int64', 'int32']:\n",
    "    # Example: convert continuous target to binary (0 or 1)\n",
    "    # This is just an example; you need to define how you want to categorize your target\n",
    "    y_train = (y_train > y_train.mean()).astype(int)\n",
    "    y_test = (y_test > y_test.mean()).astype(int)\n",
    "\n",
    "# Train the model again\n",
    "model = RandomForestClassifier(n_estimators=100, random_state=42)\n",
    "model.fit(X_train, y_train)\n",
    "y_pred = model.predict(X_test)\n",
    "\n",
    "# Calculate metrics\n",
    "accuracy = accuracy_score(y_test, y_pred)\n",
    "recall = recall_score(y_test, y_pred)\n",
    "precision = precision_score(y_test, y_pred)\n",
    "f1 = f1_score(y_test, y_pred)\n",
    "roc_auc = roc_auc_score(y_test, y_pred)\n",
    "\n",
    "print(f\"Accuracy: {accuracy:.2f}\")\n",
    "print(f\"Recall: {recall:.2f}\")\n",
    "print(f\"Precision: {precision:.2f}\")\n",
    "print(f\"F1 Score: {f1:.2f}\")\n",
    "print(f\"ROC AUC Score: {roc_auc:.2f}\")"
   ]
  },
  {
   "cell_type": "markdown",
   "id": "112fd127-5d36-491b-81af-3b3df7ce478a",
   "metadata": {},
   "source": [
    "## Explicación de las Métricas de Evaluación y sus Resultados\n",
    "### Accuracy (Precisión):\n",
    "\n",
    "* Definición: Es el porcentaje de predicciones correctas sobre el total de predicciones realizadas.\n",
    "\n",
    "$$\n",
    "\\text{Accuracy} = \\frac{\\text{TP + TN}}{\\text{TP + TN + FP + FN}}\n",
    "$$\n",
    "\n",
    "* Donde:\n",
    "    - TP: Verdaderos Positivos\n",
    "    - TN: Verdaderos Negativos\n",
    "    - FP: Falsos Positivos\n",
    "    - FN: Falsos Negativos\n",
    "* Resultado: 0.71 (71%)\n",
    "* **Interpretación**: El modelo predice correctamente el 71% de los casos. Esta es una métrica global que no distingue entre las clases y puede ser engañosa si las clases están desbalanceadas.\n",
    "\n",
    "### Recall (Sensibilidad o Tasa de Verdaderos Positivos):\n",
    "\n",
    "* Definición: Es la proporción de verdaderos positivos sobre el total de verdaderos positivos y falsos negativos.\n",
    "$$\n",
    "\\text{Recall} = \\frac{\\text{TP}}{\\text{TP + FN}}\n",
    "$$\n",
    "* Resultado: 0.79 (79%)\n",
    "* **Interpretación**: El modelo identifica correctamente el 79% de los casos positivos reales. Es crucial en escenarios donde los falsos negativos son costosos, como en detección de enfermedades.\n",
    "### Precision (Precisión Positiva):\n",
    "\n",
    "* Definición: Es la proporción de verdaderos positivos sobre el total de verdaderos positivos y falsos positivos.\n",
    "$$\n",
    "\\text{Precision} = \\frac{\\text{TP}}{\\text{TP + FP}}\n",
    "$$\n",
    "* Resultado: 0.75 (75%)\n",
    "* **Interpretación**: El 75% de las predicciones positivas son correctas. Es crucial en escenarios donde los falsos positivos son costosos, como en sistemas de spam.\n",
    "### F1 Score:\n",
    "\n",
    "* Definición: Es la media armónica entre precisión y recall, proporcionando un balance entre ambas métricas.\n",
    "$$\n",
    "\\text{F1 Score} = 2 \\cdot \\frac{\\text{Precision} \\cdot \\text{Recall}}{\\text{Precision + Recall}}\n",
    "$$\n",
    "* Resultado: 0.77 (77%)\n",
    "* **Interpretación**: Este valor de 0.77 indica un buen balance entre precisión y recall. Es útil cuando se necesita un equilibrio entre ambas métricas.\n",
    "### ROC AUC Score (Área Bajo la Curva ROC):\n",
    "\n",
    "* Definición: Es una métrica que evalúa la capacidad del modelo para distinguir entre las clases. La curva ROC (Receiver Operating Characteristic) es una gráfica de la tasa de verdaderos positivos frente a la tasa de falsos positivos a diferentes umbrales.\n",
    "* Cálculo: Se calcula el área bajo la curva ROC.\n",
    "$$\n",
    "\\text{AUC} = \\int_{\\text{ROC}} \\text{d(ROC)}\n",
    "$$\n",
    "* Resultado: 0.69 (69%)\n",
    "* **Interpretación**: Un valor de 0.69 indica que el modelo tiene una capacidad moderada para distinguir entre clases positivas y negativas. Un valor de 0.5 representa un modelo que no tiene discriminación (aleatorio), mientras que un valor de 1.0 representa una perfecta discriminación.\n",
    "### Conclusión\n",
    "* Accuracy: 0.71 indica un buen rendimiento general, pero puede ser menos informativo si las clases están desbalanceadas.\n",
    "* Recall: 0.79 es alto, lo que es bueno para capturar la mayoría de los casos positivos.\n",
    "* Precision: 0.75 muestra que la mayoría de las predicciones positivas son correctas, aunque hay un 25% de falsos positivos.\n",
    "* F1 Score: 0.77 sugiere un buen equilibrio entre precisión y recall.\n",
    "* ROC AUC Score: 0.69 indica una capacidad moderada para distinguir entre las clases."
   ]
  },
  {
   "cell_type": "code",
   "execution_count": null,
   "id": "894dea02-a1b3-4ff3-9558-6044f1033fc0",
   "metadata": {},
   "outputs": [],
   "source": []
  }
 ],
 "metadata": {
  "kernelspec": {
   "display_name": "Python 3 (ipykernel)",
   "language": "python",
   "name": "python3"
  },
  "language_info": {
   "codemirror_mode": {
    "name": "ipython",
    "version": 3
   },
   "file_extension": ".py",
   "mimetype": "text/x-python",
   "name": "python",
   "nbconvert_exporter": "python",
   "pygments_lexer": "ipython3",
   "version": "3.11.7"
  }
 },
 "nbformat": 4,
 "nbformat_minor": 5
}
